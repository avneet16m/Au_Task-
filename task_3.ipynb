{
  "nbformat": 4,
  "nbformat_minor": 0,
  "metadata": {
    "colab": {
      "provenance": []
    },
    "kernelspec": {
      "name": "python3",
      "display_name": "Python 3"
    },
    "language_info": {
      "name": "python"
    }
  },
  "cells": [
    {
      "cell_type": "code",
      "execution_count": null,
      "metadata": {
        "colab": {
          "base_uri": "https://localhost:8080/"
        },
        "id": "wm7T8713OTYf",
        "outputId": "10c929e5-7791-4340-e8f1-c9387f9d8261"
      },
      "outputs": [
        {
          "output_type": "stream",
          "name": "stdout",
          "text": [
            "\n",
            "\n",
            "\n",
            "\n",
            "\n"
          ]
        }
      ],
      "source": [
        "for i in range(1,6):\n",
        "    for j in range(i+1,i):\n",
        "       print(i,end=\" \")\n",
        "    print()"
      ]
    },
    {
      "cell_type": "code",
      "source": [
        "n=int(input(\"enter the number\"))\n",
        "x=int(input(\"enter the number\"))\n",
        "sum=1\n",
        "for i in range(2,n+1):\n",
        "   s=x**i/i\n",
        "   sum+=s\n",
        "print(sum)"
      ],
      "metadata": {
        "colab": {
          "base_uri": "https://localhost:8080/"
        },
        "id": "FNN3yhOnWk3q",
        "outputId": "bca6150e-76f9-4b62-eb0c-1a208e31881d"
      },
      "execution_count": 21,
      "outputs": [
        {
          "output_type": "stream",
          "name": "stdout",
          "text": [
            "enter the number5\n",
            "enter the number2\n",
            "16.066666666666666\n"
          ]
        }
      ]
    },
    {
      "cell_type": "code",
      "source": [
        "x=int(input(\"enter the number of x\"))\n",
        "n=int(input(\"enter the number of items \"))\n",
        "y=(x-1)/x\n",
        "sum=y\n",
        "for i in range(2,n+1):\n",
        "  s=0.5*(y**i)\n",
        "  sum+=s\n",
        "print(sum)\n",
        "\n"
      ],
      "metadata": {
        "colab": {
          "base_uri": "https://localhost:8080/"
        },
        "id": "dWPyDHctD4d8",
        "outputId": "503925c7-5e46-4380-ccf2-7abe81f17827"
      },
      "execution_count": 26,
      "outputs": [
        {
          "output_type": "stream",
          "name": "stdout",
          "text": [
            "enter the number of x2\n",
            "enter the number of items 4\n",
            "0.71875\n"
          ]
        }
      ]
    },
    {
      "cell_type": "code",
      "source": [
        "n = 5\n",
        "x = 2\n",
        "sum = 0\n",
        "s = 0\n",
        "\n",
        "for i in range(1, n+1):\n",
        "    sum = sum * 10 + x\n",
        "    s += sum\n",
        "    print(s)"
      ],
      "metadata": {
        "colab": {
          "base_uri": "https://localhost:8080/"
        },
        "id": "hlIN2qB2ICr8",
        "outputId": "0939ab61-a567-4678-c065-63c8c43a3cdf"
      },
      "execution_count": 33,
      "outputs": [
        {
          "output_type": "stream",
          "name": "stdout",
          "text": [
            "2\n",
            "24\n",
            "246\n",
            "2468\n",
            "24690\n"
          ]
        }
      ]
    },
    {
      "cell_type": "code",
      "source": [
        "string=input(\"enter the sting \")\n",
        "result=\"\"\n",
        "for char in string:\n",
        "  match=0\n",
        "  for j in result:\n",
        "      if char==j:\n",
        "        match=1\n",
        "  if match==0:\n",
        "      result+=char\n",
        "\n",
        "print(result)\n",
        "\n"
      ],
      "metadata": {
        "colab": {
          "base_uri": "https://localhost:8080/"
        },
        "id": "PtnVFjqm_q6A",
        "outputId": "f44e5705-8f48-4ac2-cb42-411b7e52a1c3"
      },
      "execution_count": null,
      "outputs": [
        {
          "output_type": "stream",
          "name": "stdout",
          "text": [
            "enter the sting asiin\n",
            "asin\n"
          ]
        }
      ]
    },
    {
      "cell_type": "code",
      "source": [
        "sentence=\"we can learn data science through campusx mentorship program\"\n",
        "word=\"campusx\"\n",
        "for i in sentence:\n",
        "  if i==word:\n",
        "\n",
        "    print(\"location of word is\",i)\n",
        "  else:\n",
        "    print(\"word not found\")\n"
      ],
      "metadata": {
        "colab": {
          "base_uri": "https://localhost:8080/",
          "height": 211
        },
        "id": "auvN6bIEDYEB",
        "outputId": "24a40b78-f048-4048-e4bd-7db1916a9770"
      },
      "execution_count": null,
      "outputs": [
        {
          "output_type": "error",
          "ename": "TypeError",
          "evalue": "string indices must be integers, not 'str'",
          "traceback": [
            "\u001b[0;31m---------------------------------------------------------------------------\u001b[0m",
            "\u001b[0;31mTypeError\u001b[0m                                 Traceback (most recent call last)",
            "\u001b[0;32m<ipython-input-9-5130bd30bc5f>\u001b[0m in \u001b[0;36m<cell line: 0>\u001b[0;34m()\u001b[0m\n\u001b[1;32m      2\u001b[0m \u001b[0mword\u001b[0m\u001b[0;34m=\u001b[0m\u001b[0;34m\"campusx\"\u001b[0m\u001b[0;34m\u001b[0m\u001b[0;34m\u001b[0m\u001b[0m\n\u001b[1;32m      3\u001b[0m \u001b[0;32mfor\u001b[0m \u001b[0mi\u001b[0m \u001b[0;32min\u001b[0m \u001b[0msentence\u001b[0m\u001b[0;34m:\u001b[0m\u001b[0;34m\u001b[0m\u001b[0;34m\u001b[0m\u001b[0m\n\u001b[0;32m----> 4\u001b[0;31m   \u001b[0;32mif\u001b[0m \u001b[0msentence\u001b[0m\u001b[0;34m[\u001b[0m\u001b[0mi\u001b[0m\u001b[0;34m]\u001b[0m\u001b[0;34m==\u001b[0m\u001b[0mword\u001b[0m\u001b[0;34m:\u001b[0m\u001b[0;34m\u001b[0m\u001b[0;34m\u001b[0m\u001b[0m\n\u001b[0m\u001b[1;32m      5\u001b[0m     \u001b[0mprint\u001b[0m\u001b[0;34m(\u001b[0m\u001b[0;34m\"location of word is\"\u001b[0m\u001b[0;34m,\u001b[0m\u001b[0mi\u001b[0m\u001b[0;34m)\u001b[0m\u001b[0;34m\u001b[0m\u001b[0;34m\u001b[0m\u001b[0m\n\u001b[1;32m      6\u001b[0m   \u001b[0;32melse\u001b[0m\u001b[0;34m:\u001b[0m\u001b[0;34m\u001b[0m\u001b[0;34m\u001b[0m\u001b[0m\n",
            "\u001b[0;31mTypeError\u001b[0m: string indices must be integers, not 'str'"
          ]
        }
      ]
    },
    {
      "cell_type": "code",
      "source": [
        "A = \"apple banana mango\"\n",
        "B = \"banana fruits mango\"\n",
        "\n",
        "words = A.split() + B.split()\n",
        "print(words)\n",
        "\n",
        "result = []\n",
        "for word in words:\n",
        "    if words.count(word) == 1:\n",
        "        result.append(word)\n",
        "\n",
        "print(result)"
      ],
      "metadata": {
        "colab": {
          "base_uri": "https://localhost:8080/"
        },
        "id": "Ik_YgDcsH0GJ",
        "outputId": "8e2efaea-5f8f-41f0-9fc7-07777a7ccbe8"
      },
      "execution_count": null,
      "outputs": [
        {
          "output_type": "stream",
          "name": "stdout",
          "text": [
            "['apple', 'banana', 'mango', 'banana', 'fruits', 'mango']\n",
            "['apple', 'fruits']\n"
          ]
        }
      ]
    },
    {
      "cell_type": "code",
      "source": [
        "s = \"geeks quiz practice code\"\n",
        "words = s.split()\n",
        "words.reverse()\n",
        "reversed_s = ' '.join(words)\n",
        "\n",
        "print(reversed_s)"
      ],
      "metadata": {
        "colab": {
          "base_uri": "https://localhost:8080/"
        },
        "id": "lBBu84XSH9Vx",
        "outputId": "87dda4cd-516a-4559-8d92-045b30d39805"
      },
      "execution_count": null,
      "outputs": [
        {
          "output_type": "stream",
          "name": "stdout",
          "text": [
            "code practice quiz geeks\n"
          ]
        }
      ]
    },
    {
      "cell_type": "code",
      "source": [
        "s = \"khokho\"\n",
        "\n",
        "n = len(s)\n",
        "\n",
        "# Find the middle\n",
        "mid = n // 2\n",
        "\n",
        "# Check if first half == second half\n",
        "if s[:mid] == s[mid:]:\n",
        "    print(\"The entered string is symmetrical\")\n",
        "else:\n",
        "    print(\"The entered string is not symmetrical\")"
      ],
      "metadata": {
        "colab": {
          "base_uri": "https://localhost:8080/"
        },
        "id": "ItePXud6J9jJ",
        "outputId": "cbda6953-777a-442d-c229-b71125f24dd4"
      },
      "execution_count": null,
      "outputs": [
        {
          "output_type": "stream",
          "name": "stdout",
          "text": [
            "The entered string is symmetrical\n"
          ]
        }
      ]
    },
    {
      "cell_type": "code",
      "source": [
        "str1 = \"I am 25 years and 10 months old\"\n",
        "\n",
        "result = \" \"\n",
        "for char in str1:\n",
        "    if char.isdigit():\n",
        "        result += char\n",
        "\n",
        "print(result)"
      ],
      "metadata": {
        "colab": {
          "base_uri": "https://localhost:8080/"
        },
        "id": "HUbTpT9bKSbf",
        "outputId": "3ff9105c-e47f-4589-9716-bc2cd14641fd"
      },
      "execution_count": null,
      "outputs": [
        {
          "output_type": "stream",
          "name": "stdout",
          "text": [
            " 2510\n"
          ]
        }
      ]
    },
    {
      "cell_type": "code",
      "source": [
        "s = \"hel12304every093\"\n",
        "\n",
        "digits = []\n",
        "for ch in s:\n",
        "    if ch.isdigit():\n",
        "        digits.append(int(ch))\n",
        "\n",
        "total = sum(digits)\n",
        "average = total / len(digits)\n",
        "\n",
        "print(\"Sum:\", total)\n",
        "print(\"Avg:\", average)"
      ],
      "metadata": {
        "colab": {
          "base_uri": "https://localhost:8080/"
        },
        "id": "Tkuz4ev0KkP5",
        "outputId": "2323c744-0061-4030-a719-af6734469a95"
      },
      "execution_count": null,
      "outputs": [
        {
          "output_type": "stream",
          "name": "stdout",
          "text": [
            "Sum: 22\n",
            "Avg: 2.75\n"
          ]
        }
      ]
    },
    {
      "cell_type": "code",
      "source": [
        "str1 = \"PyNaTive\"\n",
        "lower = []\n",
        "upper = []\n",
        "\n",
        "for ch in str1:\n",
        "    if ch.islower():\n",
        "        lower.append(ch)\n",
        "\n",
        "for ch in str1:\n",
        "    if ch.isupper():\n",
        "        upper.append(ch)\n",
        "\n",
        "result = ''.join(lower + upper)\n",
        "print(result)\n",
        "\n"
      ],
      "metadata": {
        "colab": {
          "base_uri": "https://localhost:8080/"
        },
        "id": "pq1OD-UsL1_w",
        "outputId": "8448b22a-2de6-41ab-c54e-84965d9a8828"
      },
      "execution_count": null,
      "outputs": [
        {
          "output_type": "stream",
          "name": "stdout",
          "text": [
            "yaivePNT\n"
          ]
        }
      ]
    },
    {
      "cell_type": "code",
      "source": [
        "text = \"Data science mentorship program\"\n",
        "words = text.split()\n",
        "short_form = \"\"\n",
        "\n",
        "for word in words:\n",
        "    if word:  # Ensure word is not empty\n",
        "        short_form += word[0].upper()\n",
        "\n",
        "print(short_form)\n"
      ],
      "metadata": {
        "colab": {
          "base_uri": "https://localhost:8080/"
        },
        "id": "HSjMZKNFMsyu",
        "outputId": "07e34174-97d5-4c50-9d0c-f1e257f9f583"
      },
      "execution_count": null,
      "outputs": [
        {
          "output_type": "stream",
          "name": "stdout",
          "text": [
            "DSMP\n"
          ]
        }
      ]
    },
    {
      "cell_type": "code",
      "source": [
        "str1 = \"campusx\"\n",
        "str2 = \"data\"\n",
        "\n",
        "mid_index = len(str1) // 2\n",
        "result = str1[:mid_index] + str2 + str1[mid_index:]\n",
        "\n",
        "print(result)\n"
      ],
      "metadata": {
        "id": "qb46LjmKNVgl",
        "outputId": "c5330035-124f-4077-dd5b-5daeae544c99",
        "colab": {
          "base_uri": "https://localhost:8080/"
        }
      },
      "execution_count": null,
      "outputs": [
        {
          "output_type": "stream",
          "name": "stdout",
          "text": [
            "camdatapusx\n"
          ]
        }
      ]
    },
    {
      "cell_type": "code",
      "source": [
        "for i in range (1,6):\n",
        "  for j in range(1,i+1):\n",
        "    print(\"*\",end=\" \")\n",
        "  print()\n",
        "for k in range(1,6):\n",
        "  for l in range(1,6-k):\n",
        "    print(\"*\",end=\" \")\n",
        "  print()"
      ],
      "metadata": {
        "colab": {
          "base_uri": "https://localhost:8080/"
        },
        "id": "8EFeYj0b_33Y",
        "outputId": "9f9feda7-e348-4cd1-d812-94b2f4d559b7"
      },
      "execution_count": null,
      "outputs": [
        {
          "output_type": "stream",
          "name": "stdout",
          "text": [
            "* \n",
            "* * \n",
            "* * * \n",
            "* * * * \n",
            "* * * * * \n",
            "* * * * \n",
            "* * * \n",
            "* * \n",
            "* \n",
            "\n"
          ]
        }
      ]
    },
    {
      "cell_type": "code",
      "source": [
        "for i in range(1,6,2):\n",
        "  for j in range(1,6-i):\n",
        "    print(\"-\",end=\"\")\n",
        "  for k in range(1,i+1):\n",
        "    print(\"*\",end=\" \")\n",
        "  print()"
      ],
      "metadata": {
        "colab": {
          "base_uri": "https://localhost:8080/"
        },
        "id": "d3J_mruSBMfl",
        "outputId": "3b875634-d164-48b8-904f-1ca4c8afc7ea"
      },
      "execution_count": null,
      "outputs": [
        {
          "output_type": "stream",
          "name": "stdout",
          "text": [
            "----* \n",
            "--* * * \n",
            "* * * * * \n"
          ]
        }
      ]
    },
    {
      "cell_type": "code",
      "source": [
        "for i in range(1,6):\n",
        "  for j in range(1,i):\n",
        "    print(i,j,end=\" \")\n",
        "  print()"
      ],
      "metadata": {
        "colab": {
          "base_uri": "https://localhost:8080/"
        },
        "id": "ErbE6Zb3D5g0",
        "outputId": "716ce3b8-b81d-4e12-addd-e1f10de423b4"
      },
      "execution_count": null,
      "outputs": [
        {
          "output_type": "stream",
          "name": "stdout",
          "text": [
            "\n",
            "2 1 \n",
            "3 1 3 2 \n",
            "4 1 4 2 4 3 \n",
            "5 1 5 2 5 3 5 4 \n"
          ]
        }
      ]
    },
    {
      "cell_type": "code",
      "source": [
        "sum=2\n",
        "n=5\n",
        "i=1\n",
        "while i>0:\n"
      ],
      "metadata": {
        "id": "4fF3sEMdPFQ7"
      },
      "execution_count": null,
      "outputs": []
    }
  ]
}