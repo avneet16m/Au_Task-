{
  "cells": [
    {
      "cell_type": "code",
      "source": [
        "#Task 1\n",
        "#Q2:- Write a program that will convert celsius value to fahrenheit.\n",
        "Celc=int(input(\"enter the degree \"))\n",
        "Farh= (9/5 * Celc) + 32\n",
        "print(Farh)"
      ],
      "metadata": {
        "id": "4q8J6anIEMjS",
        "outputId": "db0e5ba4-14cd-46ac-a84b-8f698c178343",
        "colab": {
          "base_uri": "https://localhost:8080/"
        }
      },
      "execution_count": null,
      "outputs": [
        {
          "output_type": "stream",
          "name": "stdout",
          "text": [
            "enter the degree38\n",
            "100.4\n"
          ]
        }
      ]
    },
    {
      "cell_type": "code",
      "source": [
        "#Q3:- Take 2 numbers as input from the user.Write a program to swap the numbers without using any special python syntax\n",
        "number1=int(input(\"enter the first number\"))\n",
        "number2=int(input(\"enter the second number\"))\n",
        "temp=0\n",
        "temp=number1\n",
        "number1=number2\n",
        "temp=number2\n",
        "print(number1)\n"
      ],
      "metadata": {
        "id": "6AvYLck5Q0xE",
        "outputId": "f0131da1-6094-44b6-d8c4-9edc48a9a5af",
        "colab": {
          "base_uri": "https://localhost:8080/"
        }
      },
      "execution_count": null,
      "outputs": [
        {
          "output_type": "stream",
          "name": "stdout",
          "text": [
            "enter the first number50\n",
            "enter the second number85\n",
            "85\n"
          ]
        }
      ]
    },
    {
      "cell_type": "code",
      "source": [
        "#Write a program to find the euclidean distance between two coordinates.Take both the coordinates from the user as input\n",
        "import math\n",
        "x1=int(input(\"enter the coordinate x1 \"))\n",
        "x2=int(input(\"enter the coordinate x2\"))\n",
        "y1=int(input(\"enter the coordinate y1 \"))\n",
        "y2=int(input(\"enter the coordinate y2\"))\n",
        "distance=(x2 - x1)**2 + (y2 - y1)**2\n",
        "distance=math.sqrt(distance)\n",
        "print(distance)\n"
      ],
      "metadata": {
        "id": "eyIqeoHWT0RJ",
        "outputId": "6ebe2447-05c3-4500-a350-620cef2741ab",
        "colab": {
          "base_uri": "https://localhost:8080/"
        }
      },
      "execution_count": null,
      "outputs": [
        {
          "output_type": "stream",
          "name": "stdout",
          "text": [
            "enter the coordinate x1 1\n",
            "enter the coordinate x24\n",
            "enter the coordinate y1 2\n",
            "enter the coordinate y26\n",
            "5.0\n"
          ]
        }
      ]
    },
    {
      "cell_type": "code",
      "source": [
        "from re import T\n",
        "#Write a program to find the simple interest when the value of principle,rate of interest and time period is provided by the user.\n",
        "p=int(input(\"enter the principle value\"))\n",
        "r=int(input(\"enter the rate value\"))\n",
        "t=int(input(\"enter the time value\"))\n",
        "si=(p*r*t)/100\n",
        "print(si)\n"
      ],
      "metadata": {
        "id": "zma9K5i-hDAd",
        "outputId": "44486a02-1166-4633-9471-ca5f672a2f79",
        "colab": {
          "base_uri": "https://localhost:8080/"
        }
      },
      "execution_count": null,
      "outputs": [
        {
          "output_type": "stream",
          "name": "stdout",
          "text": [
            "enter the principle value1000\n",
            "enter the rate value2\n",
            "enter the time value5\n",
            "100.0\n"
          ]
        }
      ]
    },
    {
      "cell_type": "code",
      "source": [
        "\"\"\" Q6:- Write a program that will tell the number of dogs and chicken are there when the user will provide the value of total heads and legs.\n",
        "\n",
        "For example:\n",
        "Input:\n",
        "heads -> 4\n",
        "legs -> 12\n",
        "<br>\n",
        "Output:\n",
        "dogs -> 2\n",
        "chicken -> 2 \"\"\"\n",
        "head=int(input(\"enter the number of heads at persent \"))\n",
        "legs=int(input(\"enter the number of legs at present\"))\n",
        "dog_head=1\n",
        "dog_leg=4\n",
        "chicken_head=1\n",
        "chicken_leg=2\n",
        "for i in range(head,legs):\n",
        "  print(i)\n",
        "\n",
        "\n",
        "\n"
      ],
      "metadata": {
        "id": "bGLeIxAIj36E",
        "outputId": "66728543-041c-4162-d00f-96892256eb66",
        "colab": {
          "base_uri": "https://localhost:8080/"
        }
      },
      "execution_count": null,
      "outputs": [
        {
          "output_type": "stream",
          "name": "stdout",
          "text": [
            "enter the number of heads at persent 2\n",
            "enter the number of legs at present5\n",
            "2\n",
            "3\n",
            "4\n"
          ]
        }
      ]
    },
    {
      "cell_type": "code",
      "source": [
        "# Write your code here\n",
        "\n",
        "\"\"\"### Q7:- Write a program to find the sum of squares of first n natural numbers where n will be provided by the user.\"\"\"\n",
        "n=int(input(\"enter the number\"))\n",
        "sum=0\n",
        "for i  in range(n+1):\n",
        " sum+=i**2\n",
        "print(sum)\n"
      ],
      "metadata": {
        "id": "UUUI9kGOqndV",
        "outputId": "b2265201-c2d4-4685-d524-675ff186cece",
        "colab": {
          "base_uri": "https://localhost:8080/"
        }
      },
      "execution_count": null,
      "outputs": [
        {
          "output_type": "stream",
          "name": "stdout",
          "text": [
            "enter the number5\n",
            "55\n"
          ]
        }
      ]
    },
    {
      "cell_type": "code",
      "source": [
        "##Q8:- Given the first 2 terms of an Arithmetic Series.Find the Nth term of the series. Assume all inputs are provided by the user.\n",
        "a=int(input(\"enter first  term\"))\n",
        "a1=int(input(\"enter second term\"))\n",
        "n=int(input(\"enter the number of terms in the series \"))\n",
        "d=a1-a\n",
        "an=a+ (n - 1)*d\n",
        "print(an)\n",
        "\n",
        "\n"
      ],
      "metadata": {
        "id": "jesl0giIxhgi",
        "outputId": "ddf6124f-6229-4cd6-aaec-93ada380e5f0",
        "colab": {
          "base_uri": "https://localhost:8080/"
        }
      },
      "execution_count": null,
      "outputs": [
        {
          "output_type": "stream",
          "name": "stdout",
          "text": [
            "enter first  term10\n",
            "enter second term20\n",
            "enter the number of terms in the series 5\n",
            "50\n"
          ]
        }
      ]
    },
    {
      "cell_type": "code",
      "source": [
        "#Given 2 fractions, find the sum of those 2 fractions.Take the numerator and denominator values of the fractions from the user.\"\"\"\n",
        "a = int(input(\"Enter numerator of first fraction: \"))\n",
        "b = int(input(\"Enter denominator of first fraction: \"))\n",
        "c = int(input(\"Enter numerator of second fraction: \"))\n",
        "d = int(input(\"Enter denominator of second fraction: \"))\n",
        "numerator = a * b + c * d\n",
        "denominator = b * d\n",
        "print(numerator,\"/\",denominator)\n"
      ],
      "metadata": {
        "id": "iaaGS-6M5I2X",
        "outputId": "f20be02c-e726-451a-c043-aa9635994f5d",
        "colab": {
          "base_uri": "https://localhost:8080/"
        }
      },
      "execution_count": null,
      "outputs": [
        {
          "output_type": "stream",
          "name": "stdout",
          "text": [
            "Enter numerator of first fraction: 1\n",
            "Enter denominator of first fraction: 2\n",
            "Enter numerator of second fraction: 1\n",
            "Enter denominator of second fraction: 3\n",
            "5 / 6\n"
          ]
        }
      ]
    },
    {
      "cell_type": "code",
      "source": [
        "\"\"\"given the height, width and breadth of a milk tank, you have to find out how many glasses of milk can be obtained? Assume all the inputs are provided by the user.\n",
        "\n",
        "\n",
        "\n",
        "Input:<br>\n",
        "Dimensions of the milk tank<br>\n",
        "H = 20cm, L = 20cm, B = 20cm\n",
        "<br><br>\n",
        "Dimensions of the glass<br>\n",
        "h = 3cm, r = 1cm\n",
        "\"\"\"\n",
        "h= int(input(\"Enter value of height \"))\n",
        "l= int(input(\"Enter value of  l\"))\n",
        "b= int(input(\"Enter value of  b\"))\n",
        "h_g= int(input(\"Enter value of  h of glass\"))\n",
        "r= int(input(\"Enter value of  r of glass\"))\n",
        "voc=l*b*h\n",
        "print(voc)\n",
        "pi=3.14\n",
        "vocy=pi*r*r*h_g\n",
        "print(vocy)\n",
        "nog=voc//vocy\n",
        "print(nog)\n",
        "\n"
      ],
      "metadata": {
        "id": "dA5YdYWA9Vzt",
        "outputId": "be55889c-9de0-45cf-c305-4d5e48f2a363",
        "colab": {
          "base_uri": "https://localhost:8080/"
        }
      },
      "execution_count": null,
      "outputs": [
        {
          "output_type": "stream",
          "name": "stdout",
          "text": [
            "Enter value of height 20\n",
            "Enter value of  l20\n",
            "Enter value of  b20\n",
            "Enter value of  h of glass3\n",
            "Enter value of  r of glass1\n",
            "8000\n",
            "9.42\n",
            "849.0\n"
          ]
        }
      ]
    },
    {
      "cell_type": "code",
      "source": [
        "import math\n",
        "x=0\n",
        "y=0\n",
        "up = int(input(\"Enter steps moved UP: \"))\n",
        "down = int(input(\"Enter steps moved DOWN: \"))\n",
        "left = int(input(\"Enter steps moved LEFT: \"))\n",
        "right = int(input(\"Enter steps moved RIGHT: \"))\n",
        "x+=left\n",
        "x-=right\n",
        "y+=up\n",
        "y-=down\n",
        "distance=math.sqrt(x**2+y**2)\n",
        "print(int(distance))"
      ],
      "metadata": {
        "colab": {
          "base_uri": "https://localhost:8080/"
        },
        "id": "rCFcfkt6P2aQ",
        "outputId": "92aafb93-1d1e-49cd-b85d-99cb8c1f86b7"
      },
      "execution_count": null,
      "outputs": [
        {
          "output_type": "stream",
          "name": "stdout",
          "text": [
            "Enter steps moved UP: 5\n",
            "Enter steps moved DOWN: 3\n",
            "Enter steps moved LEFT: 2\n",
            "Enter steps moved RIGHT: 3\n",
            "2\n"
          ]
        }
      ]
    },
    {
      "cell_type": "code",
      "source": [],
      "metadata": {
        "id": "x9rT31Mpyr3I"
      },
      "execution_count": null,
      "outputs": []
    }
  ],
  "metadata": {
    "colab": {
      "provenance": []
    },
    "kernelspec": {
      "display_name": "Python 3",
      "name": "python3"
    }
  },
  "nbformat": 4,
  "nbformat_minor": 0
}